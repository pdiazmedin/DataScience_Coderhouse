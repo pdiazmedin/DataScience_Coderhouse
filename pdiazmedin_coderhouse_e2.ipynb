{
 "cells": [
  {
   "cell_type": "markdown",
   "metadata": {},
   "source": [
    "Importación de bibliotecas"
   ]
  },
  {
   "cell_type": "code",
   "execution_count": 1,
   "metadata": {},
   "outputs": [],
   "source": [
    "from boxoffice_api import BoxOffice\n",
    "import rottentomatoes as rt\n",
    "import datetime\n",
    "import pandas as pd\n",
    "import numpy as np \n",
    "import psycopg2\n",
    "import psycopg2.extras as extras\n",
    "import os\n",
    "from dotenv import load_dotenv"
   ]
  },
  {
   "cell_type": "markdown",
   "metadata": {},
   "source": [
    "Funciones"
   ]
  },
  {
   "cell_type": "code",
   "execution_count": 2,
   "metadata": {},
   "outputs": [],
   "source": [
    "def execute_values(conn, df, table): \n",
    "  \n",
    "    tuples = [tuple(x) for x in df.to_numpy()] \n",
    "  \n",
    "    cols = ','.join(list(df.columns)) \n",
    "    # SQL query to execute \n",
    "    query = \"INSERT INTO %s(%s) VALUES %%s\" % (table, cols) \n",
    "    cursor = conn.cursor() \n",
    "    try: \n",
    "        extras.execute_values(cursor, query, tuples) \n",
    "        conn.commit() \n",
    "    except (Exception, psycopg2.DatabaseError) as error: \n",
    "        print(\"Error: %s\" % error) \n",
    "        conn.rollback() \n",
    "        cursor.close() \n",
    "        return 1\n",
    "    print(\"the dataframe is inserted\") \n",
    "    cursor.close()\n",
    "\n",
    "def getRottenRating(peli):\n",
    "    try:\n",
    "        ptg = rt.tomatometer(peli)\n",
    "    except:\n",
    "        ptg = 0\n",
    "    return ptg\n",
    "\n",
    "def getAudienceRating(peli):\n",
    "    try:\n",
    "        ptg = rt.audience_score(peli)\n",
    "    except:\n",
    "        ptg = 0\n",
    "    return ptg\n",
    "\n",
    "def getGenre(peli):\n",
    "    try:\n",
    "        genre = rt.genres(peli)\n",
    "    except:\n",
    "        genre = ['No data']\n",
    "        \n",
    "    genre_f = '; '.join(genre)\n",
    "    return genre_f"
   ]
  },
  {
   "cell_type": "markdown",
   "metadata": {},
   "source": [
    "Obtención de datos de la API"
   ]
  },
  {
   "cell_type": "code",
   "execution_count": 3,
   "metadata": {},
   "outputs": [],
   "source": [
    "#Obtengo el password para la API\n",
    "with open(\"rotten_api.txt\",'r') as f:\n",
    "    pwd= f.read()"
   ]
  },
  {
   "cell_type": "code",
   "execution_count": 4,
   "metadata": {},
   "outputs": [],
   "source": [
    "#Inicialización de la API\n",
    "box_office = BoxOffice(api_key=pwd,outputformat=\"DF\")"
   ]
  },
  {
   "cell_type": "code",
   "execution_count": 5,
   "metadata": {},
   "outputs": [],
   "source": [
    "#Seteo de datos de fecha\n",
    "hoy = datetime.date.today()"
   ]
  },
  {
   "cell_type": "code",
   "execution_count": 6,
   "metadata": {},
   "outputs": [
    {
     "ename": "KeyboardInterrupt",
     "evalue": "",
     "output_type": "error",
     "traceback": [
      "\u001b[1;31m---------------------------------------------------------------------------\u001b[0m",
      "\u001b[1;31mKeyboardInterrupt\u001b[0m                         Traceback (most recent call last)",
      "Cell \u001b[1;32mIn[6], line 2\u001b[0m\n\u001b[0;32m      1\u001b[0m \u001b[38;5;66;03m#Obtengo los datos de la API\u001b[39;00m\n\u001b[1;32m----> 2\u001b[0m df \u001b[38;5;241m=\u001b[39m \u001b[43mbox_office\u001b[49m\u001b[38;5;241;43m.\u001b[39;49m\u001b[43mget_monthly\u001b[49m\u001b[43m(\u001b[49m\u001b[43myear\u001b[49m\u001b[38;5;241;43m=\u001b[39;49m\u001b[43mhoy\u001b[49m\u001b[38;5;241;43m.\u001b[39;49m\u001b[43myear\u001b[49m\u001b[43m,\u001b[49m\u001b[43mmonth\u001b[49m\u001b[38;5;241;43m=\u001b[39;49m\u001b[43mhoy\u001b[49m\u001b[38;5;241;43m.\u001b[39;49m\u001b[43mmonth\u001b[49m\u001b[43m)\u001b[49m\n\u001b[0;32m      3\u001b[0m cols \u001b[38;5;241m=\u001b[39m df\u001b[38;5;241m.\u001b[39mcolumns[:\u001b[38;5;241m-\u001b[39m\u001b[38;5;241m2\u001b[39m]\n\u001b[0;32m      4\u001b[0m df \u001b[38;5;241m=\u001b[39m df[cols]\n",
      "File \u001b[1;32m~\\AppData\\Local\\Packages\\PythonSoftwareFoundation.Python.3.12_qbz5n2kfra8p0\\LocalCache\\local-packages\\Python312\\site-packages\\boxoffice_api\\boxoffice_app.py:108\u001b[0m, in \u001b[0;36mBoxOffice.get_monthly\u001b[1;34m(self, year, month)\u001b[0m\n\u001b[0;32m    106\u001b[0m \u001b[38;5;28;01mif\u001b[39;00m \u001b[38;5;28mself\u001b[39m\u001b[38;5;241m.\u001b[39mcheck_results(url\u001b[38;5;241m=\u001b[39mmonthly_url):\n\u001b[0;32m    107\u001b[0m     soap \u001b[38;5;241m=\u001b[39m \u001b[38;5;28mself\u001b[39m\u001b[38;5;241m.\u001b[39mcheck_results(url\u001b[38;5;241m=\u001b[39mmonthly_url)\n\u001b[1;32m--> 108\u001b[0m     result \u001b[38;5;241m=\u001b[39m \u001b[38;5;28;43mself\u001b[39;49m\u001b[38;5;241;43m.\u001b[39;49m\u001b[43m_collect_data\u001b[49m\u001b[43m(\u001b[49m\u001b[43msoap\u001b[49m\u001b[38;5;241;43m=\u001b[39;49m\u001b[43msoap\u001b[49m\u001b[43m)\u001b[49m\n\u001b[0;32m    109\u001b[0m     \u001b[38;5;28;01mif\u001b[39;00m \u001b[38;5;28mself\u001b[39m\u001b[38;5;241m.\u001b[39m_output_format \u001b[38;5;241m==\u001b[39m \u001b[38;5;124m\"\u001b[39m\u001b[38;5;124mDF\u001b[39m\u001b[38;5;124m\"\u001b[39m:\n\u001b[0;32m    110\u001b[0m         df \u001b[38;5;241m=\u001b[39m pd\u001b[38;5;241m.\u001b[39mDataFrame(result)\n",
      "File \u001b[1;32m~\\AppData\\Local\\Packages\\PythonSoftwareFoundation.Python.3.12_qbz5n2kfra8p0\\LocalCache\\local-packages\\Python312\\site-packages\\boxoffice_api\\boxoffice_app.py:192\u001b[0m, in \u001b[0;36mBoxOffice._collect_data\u001b[1;34m(self, soap)\u001b[0m\n\u001b[0;32m    190\u001b[0m     api_url \u001b[38;5;241m=\u001b[39m \u001b[38;5;124mf\u001b[39m\u001b[38;5;124m\"\u001b[39m\u001b[38;5;124mhttps://www.omdbapi.com/?t=\u001b[39m\u001b[38;5;132;01m{\u001b[39;00mtitle\u001b[38;5;132;01m}\u001b[39;00m\u001b[38;5;124m&apikey=\u001b[39m\u001b[38;5;132;01m{\u001b[39;00m\u001b[38;5;28mself\u001b[39m\u001b[38;5;241m.\u001b[39m_api_key\u001b[38;5;132;01m}\u001b[39;00m\u001b[38;5;124m\"\u001b[39m\n\u001b[0;32m    191\u001b[0m     \u001b[38;5;28;01mwith\u001b[39;00m concurrent\u001b[38;5;241m.\u001b[39mfutures\u001b[38;5;241m.\u001b[39mThreadPoolExecutor() \u001b[38;5;28;01mas\u001b[39;00m executor:\n\u001b[1;32m--> 192\u001b[0m         api_response \u001b[38;5;241m=\u001b[39m \u001b[43mexecutor\u001b[49m\u001b[38;5;241;43m.\u001b[39;49m\u001b[43msubmit\u001b[49m\u001b[43m(\u001b[49m\u001b[43mrequests\u001b[49m\u001b[38;5;241;43m.\u001b[39;49m\u001b[43mget\u001b[49m\u001b[43m,\u001b[49m\u001b[43m \u001b[49m\u001b[43mapi_url\u001b[49m\u001b[43m)\u001b[49m\u001b[38;5;241;43m.\u001b[39;49m\u001b[43mresult\u001b[49m\u001b[43m(\u001b[49m\u001b[43m)\u001b[49m\u001b[38;5;241m.\u001b[39mjson()\n\u001b[0;32m    193\u001b[0m     requests_cache[title] \u001b[38;5;241m=\u001b[39m api_response\n\u001b[0;32m    194\u001b[0m \u001b[38;5;28;01melse\u001b[39;00m:\n",
      "File \u001b[1;32mC:\\Program Files\\WindowsApps\\PythonSoftwareFoundation.Python.3.12_3.12.752.0_x64__qbz5n2kfra8p0\\Lib\\concurrent\\futures\\_base.py:451\u001b[0m, in \u001b[0;36mFuture.result\u001b[1;34m(self, timeout)\u001b[0m\n\u001b[0;32m    448\u001b[0m \u001b[38;5;28;01melif\u001b[39;00m \u001b[38;5;28mself\u001b[39m\u001b[38;5;241m.\u001b[39m_state \u001b[38;5;241m==\u001b[39m FINISHED:\n\u001b[0;32m    449\u001b[0m     \u001b[38;5;28;01mreturn\u001b[39;00m \u001b[38;5;28mself\u001b[39m\u001b[38;5;241m.\u001b[39m__get_result()\n\u001b[1;32m--> 451\u001b[0m \u001b[38;5;28;43mself\u001b[39;49m\u001b[38;5;241;43m.\u001b[39;49m\u001b[43m_condition\u001b[49m\u001b[38;5;241;43m.\u001b[39;49m\u001b[43mwait\u001b[49m\u001b[43m(\u001b[49m\u001b[43mtimeout\u001b[49m\u001b[43m)\u001b[49m\n\u001b[0;32m    453\u001b[0m \u001b[38;5;28;01mif\u001b[39;00m \u001b[38;5;28mself\u001b[39m\u001b[38;5;241m.\u001b[39m_state \u001b[38;5;129;01min\u001b[39;00m [CANCELLED, CANCELLED_AND_NOTIFIED]:\n\u001b[0;32m    454\u001b[0m     \u001b[38;5;28;01mraise\u001b[39;00m CancelledError()\n",
      "File \u001b[1;32mC:\\Program Files\\WindowsApps\\PythonSoftwareFoundation.Python.3.12_3.12.752.0_x64__qbz5n2kfra8p0\\Lib\\threading.py:355\u001b[0m, in \u001b[0;36mCondition.wait\u001b[1;34m(self, timeout)\u001b[0m\n\u001b[0;32m    353\u001b[0m \u001b[38;5;28;01mtry\u001b[39;00m:    \u001b[38;5;66;03m# restore state no matter what (e.g., KeyboardInterrupt)\u001b[39;00m\n\u001b[0;32m    354\u001b[0m     \u001b[38;5;28;01mif\u001b[39;00m timeout \u001b[38;5;129;01mis\u001b[39;00m \u001b[38;5;28;01mNone\u001b[39;00m:\n\u001b[1;32m--> 355\u001b[0m         \u001b[43mwaiter\u001b[49m\u001b[38;5;241;43m.\u001b[39;49m\u001b[43macquire\u001b[49m\u001b[43m(\u001b[49m\u001b[43m)\u001b[49m\n\u001b[0;32m    356\u001b[0m         gotit \u001b[38;5;241m=\u001b[39m \u001b[38;5;28;01mTrue\u001b[39;00m\n\u001b[0;32m    357\u001b[0m     \u001b[38;5;28;01melse\u001b[39;00m:\n",
      "\u001b[1;31mKeyboardInterrupt\u001b[0m: "
     ]
    }
   ],
   "source": [
    "#Obtengo los datos de la API\n",
    "df = box_office.get_monthly(year=hoy.year,month=hoy.month)\n",
    "cols = df.columns[:-2]\n",
    "df = df[cols]\n",
    "df = df.rename(columns={'Total Gross':'Total_Gross','Release Date':'Release_Date'})\n",
    "df = df.head(10)"
   ]
  },
  {
   "cell_type": "markdown",
   "metadata": {},
   "source": [
    "Agrego datos extra al DF"
   ]
  },
  {
   "cell_type": "code",
   "execution_count": null,
   "metadata": {},
   "outputs": [],
   "source": [
    "df['Year'] = hoy.year\n",
    "df['Month'] = hoy.month\n",
    "\n",
    "df['RottenTomatoes_Score'] = [getRottenRating(x) for x in df['Release']]\n",
    "df['Audience_Score'] = [getAudienceRating(x) for x in df['Release']]\n",
    "df['Genre'] = [getGenre(x) for x in df['Release']]"
   ]
  },
  {
   "cell_type": "markdown",
   "metadata": {},
   "source": [
    "Conexión a DB"
   ]
  },
  {
   "cell_type": "code",
   "execution_count": null,
   "metadata": {},
   "outputs": [],
   "source": [
    "#Obtengo el password para Redshift\n",
    "with open(\"redshift_info.txt\",'r') as f:\n",
    "    pwd= f.read()"
   ]
  },
  {
   "cell_type": "code",
   "execution_count": null,
   "metadata": {},
   "outputs": [
    {
     "name": "stdout",
     "output_type": "stream",
     "text": [
      "Conectado a Redshift con éxito!\n"
     ]
    }
   ],
   "source": [
    "#Conectando a la DB\n",
    "try:\n",
    "    conn = psycopg2.connect(\n",
    "        host='data-engineer-cluster.cyhh5bfevlmn.us-east-1.redshift.amazonaws.com',\n",
    "        dbname='data-engineer-database',\n",
    "        user='pdiazmedin_coderhouse',\n",
    "        password=pwd,\n",
    "        port='5439'\n",
    "    )\n",
    "    print(\"Conectado a Redshift con éxito!\")\n",
    "    \n",
    "except Exception as e:\n",
    "    print(\"No es posible conectar a Redshift\")\n",
    "    print(e)"
   ]
  },
  {
   "cell_type": "markdown",
   "metadata": {},
   "source": [
    "Creación de la tabla en Redshift"
   ]
  },
  {
   "cell_type": "code",
   "execution_count": null,
   "metadata": {},
   "outputs": [],
   "source": [
    "with conn.cursor() as cur:\n",
    "    cur.execute(\"\"\"\n",
    "        CREATE TABLE IF NOT EXISTS peliculas\n",
    "        ( \n",
    "\t\tRank INTEGER,\n",
    "\t\tRelease VARCHAR(255),\n",
    "\t\tGross VARCHAR(255),\n",
    "\t\tTheaters VARCHAR(255),\n",
    "\t\tTotal_Gross VARCHAR(255),\n",
    "\t\tRelease_Date VARCHAR(255),\n",
    "\t\tDistributor VARCHAR(255),\n",
    "\t\tYear INTEGER,\n",
    "\t\tMonth INTEGER,\n",
    "\t\tRottenTomatoes_Score INTEGER,\n",
    "\t\tAudience_Score INTEGER,\n",
    "\t\tGenre VARCHAR(255)\n",
    "        )\n",
    "    \"\"\")\n",
    "    conn.commit()\n"
   ]
  },
  {
   "cell_type": "markdown",
   "metadata": {},
   "source": [
    "Insertando datos en la tabla"
   ]
  },
  {
   "cell_type": "code",
   "execution_count": null,
   "metadata": {},
   "outputs": [
    {
     "name": "stdout",
     "output_type": "stream",
     "text": [
      "Error: column \"genre\" is of type character varying but expression is of type text[]\n",
      "HINT:  You will need to rewrite or cast the expression.\n",
      "\n"
     ]
    },
    {
     "data": {
      "text/plain": [
       "1"
      ]
     },
     "execution_count": 12,
     "metadata": {},
     "output_type": "execute_result"
    }
   ],
   "source": [
    "execute_values(conn, df, 'peliculas') "
   ]
  },
  {
   "cell_type": "code",
   "execution_count": null,
   "metadata": {},
   "outputs": [
    {
     "data": {
      "text/html": [
       "<div>\n",
       "<style scoped>\n",
       "    .dataframe tbody tr th:only-of-type {\n",
       "        vertical-align: middle;\n",
       "    }\n",
       "\n",
       "    .dataframe tbody tr th {\n",
       "        vertical-align: top;\n",
       "    }\n",
       "\n",
       "    .dataframe thead th {\n",
       "        text-align: right;\n",
       "    }\n",
       "</style>\n",
       "<table border=\"1\" class=\"dataframe\">\n",
       "  <thead>\n",
       "    <tr style=\"text-align: right;\">\n",
       "      <th></th>\n",
       "      <th>Rank</th>\n",
       "      <th>Release</th>\n",
       "      <th>Gross</th>\n",
       "      <th>Theaters</th>\n",
       "      <th>Total_Gross</th>\n",
       "      <th>Release_Date</th>\n",
       "      <th>Distributor</th>\n",
       "      <th>Year</th>\n",
       "      <th>Month</th>\n",
       "      <th>RottenTomatoes_Score</th>\n",
       "      <th>Audience_Score</th>\n",
       "      <th>Genre</th>\n",
       "    </tr>\n",
       "  </thead>\n",
       "  <tbody>\n",
       "    <tr>\n",
       "      <th>0</th>\n",
       "      <td>1</td>\n",
       "      <td>Dune: Part Two</td>\n",
       "      <td>$207,528,001</td>\n",
       "      <td>4,074</td>\n",
       "      <td>$207,528,001</td>\n",
       "      <td>Mar 1</td>\n",
       "      <td>Warner Bros.</td>\n",
       "      <td>2024</td>\n",
       "      <td>3</td>\n",
       "      <td>92</td>\n",
       "      <td>95</td>\n",
       "      <td>[Sci-Fi, Adventure, Action, Fantasy, Drama]</td>\n",
       "    </tr>\n",
       "    <tr>\n",
       "      <th>1</th>\n",
       "      <td>2</td>\n",
       "      <td>Kung Fu Panda 4</td>\n",
       "      <td>$109,913,285</td>\n",
       "      <td>4,067</td>\n",
       "      <td>$109,913,285</td>\n",
       "      <td>Mar 8</td>\n",
       "      <td>Universal Pictures</td>\n",
       "      <td>2024</td>\n",
       "      <td>3</td>\n",
       "      <td>72</td>\n",
       "      <td>86</td>\n",
       "      <td>[Kids &amp; Family, Comedy, Adventure, Animation, ...</td>\n",
       "    </tr>\n",
       "    <tr>\n",
       "      <th>2</th>\n",
       "      <td>3</td>\n",
       "      <td>Imaginary</td>\n",
       "      <td>$19,488,508</td>\n",
       "      <td>3,118</td>\n",
       "      <td>$19,488,508</td>\n",
       "      <td>Mar 8</td>\n",
       "      <td>Lionsgate Films</td>\n",
       "      <td>2024</td>\n",
       "      <td>3</td>\n",
       "      <td>25</td>\n",
       "      <td>53</td>\n",
       "      <td>[Horror, Mystery &amp; Thriller]</td>\n",
       "    </tr>\n",
       "    <tr>\n",
       "      <th>3</th>\n",
       "      <td>4</td>\n",
       "      <td>Bob Marley: One Love</td>\n",
       "      <td>$18,222,746</td>\n",
       "      <td>3,597</td>\n",
       "      <td>$93,563,826</td>\n",
       "      <td>Feb 14</td>\n",
       "      <td>Paramount Pictures</td>\n",
       "      <td>2024</td>\n",
       "      <td>3</td>\n",
       "      <td>43</td>\n",
       "      <td>92</td>\n",
       "      <td>[Biography, Drama, Music]</td>\n",
       "    </tr>\n",
       "    <tr>\n",
       "      <th>4</th>\n",
       "      <td>5</td>\n",
       "      <td>Cabrini</td>\n",
       "      <td>$13,415,888</td>\n",
       "      <td>2,850</td>\n",
       "      <td>$13,415,888</td>\n",
       "      <td>Mar 8</td>\n",
       "      <td>Angel Studios</td>\n",
       "      <td>2024</td>\n",
       "      <td>3</td>\n",
       "      <td>90</td>\n",
       "      <td>98</td>\n",
       "      <td>[Biography, History, Drama]</td>\n",
       "    </tr>\n",
       "    <tr>\n",
       "      <th>5</th>\n",
       "      <td>6</td>\n",
       "      <td>Ordinary Angels</td>\n",
       "      <td>$9,405,238</td>\n",
       "      <td>3,020</td>\n",
       "      <td>$18,116,360</td>\n",
       "      <td>Feb 23</td>\n",
       "      <td>-</td>\n",
       "      <td>2024</td>\n",
       "      <td>3</td>\n",
       "      <td>86</td>\n",
       "      <td>99</td>\n",
       "      <td>[Drama]</td>\n",
       "    </tr>\n",
       "    <tr>\n",
       "      <th>6</th>\n",
       "      <td>7</td>\n",
       "      <td>Arthur the King</td>\n",
       "      <td>$8,215,103</td>\n",
       "      <td>3,003</td>\n",
       "      <td>$8,215,103</td>\n",
       "      <td>Mar 15</td>\n",
       "      <td>Lionsgate Films</td>\n",
       "      <td>2024</td>\n",
       "      <td>3</td>\n",
       "      <td>67</td>\n",
       "      <td>97</td>\n",
       "      <td>[Drama, Adventure]</td>\n",
       "    </tr>\n",
       "    <tr>\n",
       "      <th>7</th>\n",
       "      <td>8</td>\n",
       "      <td>Madame Web</td>\n",
       "      <td>$6,328,497</td>\n",
       "      <td>4,013</td>\n",
       "      <td>$43,570,013</td>\n",
       "      <td>Feb 14</td>\n",
       "      <td>Columbia Pictures</td>\n",
       "      <td>2024</td>\n",
       "      <td>3</td>\n",
       "      <td>12</td>\n",
       "      <td>57</td>\n",
       "      <td>[Action, Adventure, Mystery &amp; Thriller]</td>\n",
       "    </tr>\n",
       "    <tr>\n",
       "      <th>8</th>\n",
       "      <td>9</td>\n",
       "      <td>The Chosen: S4 Episodes 7-8</td>\n",
       "      <td>$6,247,415</td>\n",
       "      <td>2,215</td>\n",
       "      <td>$7,011,749</td>\n",
       "      <td>Feb 29</td>\n",
       "      <td>Fathom Events</td>\n",
       "      <td>2024</td>\n",
       "      <td>3</td>\n",
       "      <td>65</td>\n",
       "      <td>56</td>\n",
       "      <td>[Comedy]</td>\n",
       "    </tr>\n",
       "    <tr>\n",
       "      <th>9</th>\n",
       "      <td>10</td>\n",
       "      <td>Migration</td>\n",
       "      <td>$5,614,750</td>\n",
       "      <td>3,839</td>\n",
       "      <td>$126,571,630</td>\n",
       "      <td>Dec 22</td>\n",
       "      <td>Universal Pictures</td>\n",
       "      <td>2024</td>\n",
       "      <td>3</td>\n",
       "      <td>73</td>\n",
       "      <td>88</td>\n",
       "      <td>[Kids &amp; Family, Comedy, Adventure, Animation]</td>\n",
       "    </tr>\n",
       "  </tbody>\n",
       "</table>\n",
       "</div>"
      ],
      "text/plain": [
       "  Rank                      Release         Gross Theaters   Total_Gross  \\\n",
       "0    1               Dune: Part Two  $207,528,001    4,074  $207,528,001   \n",
       "1    2              Kung Fu Panda 4  $109,913,285    4,067  $109,913,285   \n",
       "2    3                    Imaginary   $19,488,508    3,118   $19,488,508   \n",
       "3    4         Bob Marley: One Love   $18,222,746    3,597   $93,563,826   \n",
       "4    5                      Cabrini   $13,415,888    2,850   $13,415,888   \n",
       "5    6              Ordinary Angels    $9,405,238    3,020   $18,116,360   \n",
       "6    7              Arthur the King    $8,215,103    3,003    $8,215,103   \n",
       "7    8                   Madame Web    $6,328,497    4,013   $43,570,013   \n",
       "8    9  The Chosen: S4 Episodes 7-8    $6,247,415    2,215    $7,011,749   \n",
       "9   10                    Migration    $5,614,750    3,839  $126,571,630   \n",
       "\n",
       "  Release_Date         Distributor  Year  Month  RottenTomatoes_Score  \\\n",
       "0        Mar 1        Warner Bros.  2024      3                    92   \n",
       "1        Mar 8  Universal Pictures  2024      3                    72   \n",
       "2        Mar 8     Lionsgate Films  2024      3                    25   \n",
       "3       Feb 14  Paramount Pictures  2024      3                    43   \n",
       "4        Mar 8       Angel Studios  2024      3                    90   \n",
       "5       Feb 23                   -  2024      3                    86   \n",
       "6       Mar 15     Lionsgate Films  2024      3                    67   \n",
       "7       Feb 14   Columbia Pictures  2024      3                    12   \n",
       "8       Feb 29       Fathom Events  2024      3                    65   \n",
       "9       Dec 22  Universal Pictures  2024      3                    73   \n",
       "\n",
       "   Audience_Score                                              Genre  \n",
       "0              95        [Sci-Fi, Adventure, Action, Fantasy, Drama]  \n",
       "1              86  [Kids & Family, Comedy, Adventure, Animation, ...  \n",
       "2              53                       [Horror, Mystery & Thriller]  \n",
       "3              92                          [Biography, Drama, Music]  \n",
       "4              98                        [Biography, History, Drama]  \n",
       "5              99                                            [Drama]  \n",
       "6              97                                 [Drama, Adventure]  \n",
       "7              57            [Action, Adventure, Mystery & Thriller]  \n",
       "8              56                                           [Comedy]  \n",
       "9              88      [Kids & Family, Comedy, Adventure, Animation]  "
      ]
     },
     "metadata": {},
     "output_type": "display_data"
    }
   ],
   "source": [
    "display(df)"
   ]
  },
  {
   "cell_type": "code",
   "execution_count": null,
   "metadata": {},
   "outputs": [],
   "source": []
  }
 ],
 "metadata": {
  "kernelspec": {
   "display_name": "Python 3",
   "language": "python",
   "name": "python3"
  },
  "language_info": {
   "codemirror_mode": {
    "name": "ipython",
    "version": 3
   },
   "file_extension": ".py",
   "mimetype": "text/x-python",
   "name": "python",
   "nbconvert_exporter": "python",
   "pygments_lexer": "ipython3",
   "version": "3.12.2"
  }
 },
 "nbformat": 4,
 "nbformat_minor": 2
}
